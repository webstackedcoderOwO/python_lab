{
  "nbformat": 4,
  "nbformat_minor": 0,
  "metadata": {
    "colab": {
      "name": "Untitled0.ipynb",
      "provenance": [],
      "authorship_tag": "ABX9TyN41n+k6OGOI8cPfOcEbfGU",
      "include_colab_link": true
    },
    "kernelspec": {
      "name": "python3",
      "display_name": "Python 3"
    },
    "language_info": {
      "name": "python"
    }
  },
  "cells": [
    {
      "cell_type": "markdown",
      "metadata": {
        "id": "view-in-github",
        "colab_type": "text"
      },
      "source": [
        "<a href=\"https://colab.research.google.com/github/hyperprizma/PythonLab/blob/main/Untitled0.ipynb\" target=\"_parent\"><img src=\"https://colab.research.google.com/assets/colab-badge.svg\" alt=\"Open In Colab\"/></a>"
      ]
    },
    {
      "cell_type": "code",
      "execution_count": 2,
      "metadata": {
        "colab": {
          "base_uri": "https://localhost:8080/"
        },
        "id": "eihudGIqPthA",
        "outputId": "acb9c544-173b-4c6c-a9f7-2b0259887cee"
      },
      "outputs": [
        {
          "output_type": "stream",
          "name": "stdout",
          "text": [
            "Enter first number: 67\n",
            "Enter second number: 34\n",
            "Enter Third number: 23\n",
            "Largest number among  the three is 67\n"
          ]
        }
      ],
      "source": [
        "a=int(input(\"Enter first number: \"));\n",
        "b=int(input(\"Enter second number: \"));\n",
        "c=int(input(\"Enter Third number: \"));\n",
        "def f():\n",
        "    if(a>=b) and (a>=c):\n",
        "        l=a\n",
        "    elif(b>=a) and (b>=c):\n",
        "         l=b\n",
        "    else:\n",
        "         l=c\n",
        "    print(\"Largest number among  the three is\",l)\n",
        "\n",
        "f()"
      ]
    },
    {
      "cell_type": "code",
      "source": [
        "def reverse(s):\n",
        "  str = \"\"\n",
        "  for i in s:\n",
        "    str = i + str\n",
        "  return str  \n",
        "s = input(\"Enter the string:\")  \n",
        "print (\"The original string  is : \",end=\"\")\n",
        "print (s) \n",
        "print (\"The reversed string(using loops) is : \",end=\"\")\n",
        "print (reverse(s))"
      ],
      "metadata": {
        "colab": {
          "base_uri": "https://localhost:8080/"
        },
        "id": "vN0P__vESYU6",
        "outputId": "99d902cc-9440-44d6-c390-2afd789f07c3"
      },
      "execution_count": 4,
      "outputs": [
        {
          "output_type": "stream",
          "name": "stdout",
          "text": [
            "Enter the string:this is tools lab\n",
            "The original string  is : this is tools lab\n",
            "The reversed string(using loops) is : bal sloot si siht\n"
          ]
        }
      ]
    },
    {
      "cell_type": "code",
      "source": [
        "def uniquelist(l):\n",
        "  x = []\n",
        "  for a in l:\n",
        "    if a not in x:\n",
        "      x.append(a)\n",
        "  return x\n",
        "print(uniquelist([1,2,3,3,3,3,4,5])) "
      ],
      "metadata": {
        "colab": {
          "base_uri": "https://localhost:8080/"
        },
        "id": "0bCUnW-2SrSA",
        "outputId": "755468b0-75aa-4069-f80d-202e1b6fa0ee"
      },
      "execution_count": 6,
      "outputs": [
        {
          "output_type": "stream",
          "name": "stdout",
          "text": [
            "[1, 2, 3, 4, 5]\n"
          ]
        }
      ]
    },
    {
      "cell_type": "code",
      "source": [
        "def isPalindrome(s):\n",
        "    return s == s[::-1]\n",
        "s = input(\"Enter the String:\")\n",
        "ans = isPalindrome(s)\n",
        "if ans:\n",
        "    print(\"Yes\")\n",
        "else:\n",
        "    print(\"No\")"
      ],
      "metadata": {
        "colab": {
          "base_uri": "https://localhost:8080/"
        },
        "id": "pUAFsC2eTCZS",
        "outputId": "825cb928-5e78-479d-9932-dd14dbeb3c2e"
      },
      "execution_count": 8,
      "outputs": [
        {
          "output_type": "stream",
          "name": "stdout",
          "text": [
            "Enter the String:madam\n",
            "Yes\n"
          ]
        }
      ]
    },
    {
      "cell_type": "code",
      "source": [
        ""
      ],
      "metadata": {
        "id": "0_P5r8lwgi1U"
      },
      "execution_count": null,
      "outputs": []
    },
    {
      "cell_type": "code",
      "source": [
        "def recursionfact(n):  \n",
        "   if n == 1:  \n",
        "       return n  \n",
        "   else:  \n",
        "       return n*recursionfact(n-1)   \n",
        "num = int(input(\"Enter a number: \"))  \n",
        "if num < 0:  \n",
        "   print(\"No factorial for negative numbers..\")  \n",
        "elif num == 0:  \n",
        "   print(\"The factorial of 0 is 1\")  \n",
        "else:  \n",
        "   print(\"The factorial of\",num,\"is\",recursionfact(num))  "
      ],
      "metadata": {
        "colab": {
          "base_uri": "https://localhost:8080/"
        },
        "id": "A9x3rs5yVB1J",
        "outputId": "51a61a2a-65d0-4ab8-c5c8-575517056d0d"
      },
      "execution_count": 11,
      "outputs": [
        {
          "output_type": "stream",
          "name": "stdout",
          "text": [
            "Enter a number: 6\n",
            "The factorial of 6 is 720\n"
          ]
        }
      ]
    },
    {
      "cell_type": "code",
      "source": [
        "def recursionfibo(n):  \n",
        "   if n <= 1:  \n",
        "       return n  \n",
        "   else:  \n",
        "       return(recursionfibo(n-1) + recursionfibo(n-2))    \n",
        "nterms = int(input(\"How many digits? \"))  \n",
        "if nterms <= 0:  \n",
        "   print(\"Enter a positive integer\")  \n",
        "else:  \n",
        "   print(\"Fibonacci sequence:\")  \n",
        "   for i in range(nterms):  \n",
        "      print(recursionfibo(i)) "
      ],
      "metadata": {
        "colab": {
          "base_uri": "https://localhost:8080/"
        },
        "id": "VHzV80VjWlVp",
        "outputId": "352966e5-4bc9-4796-dfd4-2017a4f23881"
      },
      "execution_count": 12,
      "outputs": [
        {
          "output_type": "stream",
          "name": "stdout",
          "text": [
            "How many digits? 6\n",
            "Fibonacci sequence:\n",
            "0\n",
            "1\n",
            "1\n",
            "2\n",
            "3\n",
            "5\n"
          ]
        }
      ]
    },
    {
      "cell_type": "code",
      "source": [
        "def sum_of_digit( n ):\n",
        "    if n == 0:\n",
        "        return 0\n",
        "    return (n % 10 + sum_of_digit(int(n / 10)))\n",
        "num = int(input(\"Enter the number:\"));\n",
        "result = sum_of_digit(num)\n",
        "print(\"Sum of digits in\",num,\"is\", result)"
      ],
      "metadata": {
        "colab": {
          "base_uri": "https://localhost:8080/"
        },
        "id": "Yy8AS072XkbS",
        "outputId": "a9b9ce99-c035-4a91-9e3b-dbd72f6c369d"
      },
      "execution_count": 13,
      "outputs": [
        {
          "output_type": "stream",
          "name": "stdout",
          "text": [
            "Enter the number:654\n",
            "Sum of digits in 654 is 15\n"
          ]
        }
      ]
    },
    {
      "cell_type": "code",
      "source": [
        "def lcm(a,b):\n",
        "    lcm.multiple=lcm.multiple+b\n",
        "    if((lcm.multiple % a == 0) and (lcm.multiple % b == 0)):\n",
        "        return lcm.multiple;\n",
        "    else:\n",
        "        lcm(a, b)\n",
        "    return lcm.multiple\n",
        "def GCD(x,y):\n",
        "    r=x%y\n",
        "    if(r==0):\n",
        "        return y\n",
        "    else:\n",
        "        return GCD(y,r)\n",
        "n= int(input(\"Enter the first number :\"))\n",
        "m= int(input(\"Enter the second number :\"))\n",
        "print(\"The GCD of two numbers is:\", GCD(n,m))\n",
        "lcm.multiple=0\n",
        "a=int(input(\"Enter first number:\"))\n",
        "b=int(input(\"Enter second number:\"))\n",
        "if(a>b):\n",
        "    LCM=lcm(b,a)\n",
        "else:\n",
        "    LCM=lcm(a,b)\n",
        "print(\"The LCM of two numbers is:\", LCM)"
      ],
      "metadata": {
        "colab": {
          "base_uri": "https://localhost:8080/"
        },
        "id": "Uv1g4lIYYu66",
        "outputId": "0fddf57f-c6af-4e65-a679-c10a189dc241"
      },
      "execution_count": 16,
      "outputs": [
        {
          "output_type": "stream",
          "name": "stdout",
          "text": [
            "Enter the first number :56\n",
            "Enter the second number :34\n",
            "The GCD of two numbers is: 2\n",
            "Enter first number:9\n",
            "Enter second number:5\n",
            "The LCM of two numbers is: 45\n"
          ]
        }
      ]
    },
    {
      "cell_type": "code",
      "source": [
        "def binarysearch(alist, key):\n",
        "    \"\"\"Search key in alist[start... end - 1].\"\"\"\n",
        "    start = 0\n",
        "    end = len(alist)\n",
        "    while start < end:\n",
        "        mid = (start + end)//2\n",
        "        if alist[mid] > key:\n",
        "            end = mid\n",
        "        elif alist[mid] < key:\n",
        "            start = mid + 1\n",
        "        else:\n",
        "            return mid\n",
        "    return -1\n",
        "alist = input('Enter the sorted list of numbers: ')\n",
        "alist = alist.split()\n",
        "alist = [int(x) for x in alist]\n",
        "key = int(input('The number to search for: '))\n",
        " \n",
        "index = binarysearch(alist, key)\n",
        "if index < 0:\n",
        "    print('{} was not found.'.format(key))\n",
        "else:\n",
        "    print('{} was found at index {}.'.format(key, index))"
      ],
      "metadata": {
        "colab": {
          "base_uri": "https://localhost:8080/"
        },
        "id": "nQlfFijLaSkp",
        "outputId": "27081856-66f5-4880-e956-5bf92b1900f0"
      },
      "execution_count": 17,
      "outputs": [
        {
          "output_type": "stream",
          "name": "stdout",
          "text": [
            "Enter the sorted list of numbers: 4 5 6 7 8 2 9 56 23\n",
            "The number to search for: 7\n",
            "7 was found at index 3.\n"
          ]
        }
      ]
    },
    {
      "cell_type": "code",
      "source": [
        "def sumofdigits(n):   \n",
        "    sum = 0\n",
        "    for digit in str(n): \n",
        "      sum += int(digit)      \n",
        "    return sum\n",
        "number = int(input(\"Enter the number:\"))\n",
        "print(sumofdigits(n))"
      ],
      "metadata": {
        "colab": {
          "base_uri": "https://localhost:8080/"
        },
        "id": "koSakOFZa0A2",
        "outputId": "de18aa6e-77df-4604-b082-fd53d3d257d2"
      },
      "execution_count": 19,
      "outputs": [
        {
          "output_type": "stream",
          "name": "stdout",
          "text": [
            "Enter the number:111\n",
            "11\n"
          ]
        }
      ]
    },
    {
      "cell_type": "code",
      "source": [
        ""
      ],
      "metadata": {
        "id": "-oWKJfc6nZCT"
      },
      "execution_count": null,
      "outputs": []
    },
    {
      "cell_type": "code",
      "source": [
        "num = int(input(\"Enter the number:\"));\n",
        "if num > 1: \n",
        "    for i in range(2, int(num/2)+1):\n",
        "        if (num % i) == 0:\n",
        "            print(num, \"is not a prime number\")\n",
        "            break\n",
        "    else:\n",
        "        print(num, \"is a prime number\")  \n",
        "else:\n",
        "    print(num, \"is not a prime number\")"
      ],
      "metadata": {
        "colab": {
          "base_uri": "https://localhost:8080/"
        },
        "id": "-6pjsk5McU7u",
        "outputId": "56a53e8e-c052-4e91-f8bb-623decfa3127"
      },
      "execution_count": 22,
      "outputs": [
        {
          "output_type": "stream",
          "name": "stdout",
          "text": [
            "Enter the number:67\n",
            "67 is a prime number\n"
          ]
        }
      ]
    },
    {
      "cell_type": "code",
      "source": [
        "lowerrange=int(input(\"Enter the first number for range: \"))\n",
        "upperrange=int(input(\"Enter the second number for range: \"))\n",
        "print(\"the even numbers between two numbers are: \")\n",
        "for i in range(lowerrange,upperrange+1):\n",
        "    if(i%2==0):\n",
        "        print(i)\n",
        "print(\"the odd numbers between two numbers are: \")\n",
        "for i in range(lowerrange,upperrange+1):\n",
        "    if(i%2==1):\n",
        "        print(i)"
      ],
      "metadata": {
        "colab": {
          "base_uri": "https://localhost:8080/"
        },
        "id": "gO9K_44riod1",
        "outputId": "a90e831d-0cc0-4007-a959-d039ff8fa506"
      },
      "execution_count": 25,
      "outputs": [
        {
          "output_type": "stream",
          "name": "stdout",
          "text": [
            "Enter the first number for range: 45\n",
            "Enter the second number for range: 78\n",
            "the even numbers between two numbers are: \n",
            "46\n",
            "48\n",
            "50\n",
            "52\n",
            "54\n",
            "56\n",
            "58\n",
            "60\n",
            "62\n",
            "64\n",
            "66\n",
            "68\n",
            "70\n",
            "72\n",
            "74\n",
            "76\n",
            "78\n",
            "the odd numbers between two numbers are: \n",
            "45\n",
            "47\n",
            "49\n",
            "51\n",
            "53\n",
            "55\n",
            "57\n",
            "59\n",
            "61\n",
            "63\n",
            "65\n",
            "67\n",
            "69\n",
            "71\n",
            "73\n",
            "75\n",
            "77\n"
          ]
        }
      ]
    },
    {
      "cell_type": "code",
      "source": [
        "Number = int(input(\" Please Enter any Number: \"))\n",
        "Sum = 0\n",
        "for i in range(1, Number):\n",
        "    if(Number % i == 0):\n",
        "        Sum = Sum + i\n",
        "if (Sum == Number):\n",
        "    print(\" %d is a Perfect Number\" %Number)\n",
        "else:\n",
        "    print(\" %d is not a Perfect Number\" %Number)"
      ],
      "metadata": {
        "colab": {
          "base_uri": "https://localhost:8080/"
        },
        "id": "1hSLzIgKnbL6",
        "outputId": "31f87fd9-0a0c-4649-c37d-964ff46817e7"
      },
      "execution_count": 26,
      "outputs": [
        {
          "output_type": "stream",
          "name": "stdout",
          "text": [
            " Please Enter any Number: 6\n",
            " 6 is a Perfect Number\n"
          ]
        }
      ]
    },
    {
      "cell_type": "code",
      "source": [
        "n=int(input(\"Enter the range of number(Limit):\"))\n",
        "i=1\n",
        "pr=0\n",
        "while i<=n:\n",
        "    pr = (pr * 2) + 1\n",
        "    print(pr,end=\" \")\n",
        "    i+=1"
      ],
      "metadata": {
        "colab": {
          "base_uri": "https://localhost:8080/"
        },
        "id": "XdpEMmyUoDi8",
        "outputId": "85162730-0f62-4590-e744-cf8e78e5bb19"
      },
      "execution_count": 27,
      "outputs": [
        {
          "output_type": "stream",
          "name": "stdout",
          "text": [
            "Enter the range of number(Limit):89\n",
            "1 3 7 15 31 63 127 255 511 1023 2047 4095 8191 16383 32767 65535 131071 262143 524287 1048575 2097151 4194303 8388607 16777215 33554431 67108863 134217727 268435455 536870911 1073741823 2147483647 4294967295 8589934591 17179869183 34359738367 68719476735 137438953471 274877906943 549755813887 1099511627775 2199023255551 4398046511103 8796093022207 17592186044415 35184372088831 70368744177663 140737488355327 281474976710655 562949953421311 1125899906842623 2251799813685247 4503599627370495 9007199254740991 18014398509481983 36028797018963967 72057594037927935 144115188075855871 288230376151711743 576460752303423487 1152921504606846975 2305843009213693951 4611686018427387903 9223372036854775807 18446744073709551615 36893488147419103231 73786976294838206463 147573952589676412927 295147905179352825855 590295810358705651711 1180591620717411303423 2361183241434822606847 4722366482869645213695 9444732965739290427391 18889465931478580854783 37778931862957161709567 75557863725914323419135 151115727451828646838271 302231454903657293676543 604462909807314587353087 1208925819614629174706175 2417851639229258349412351 4835703278458516698824703 9671406556917033397649407 19342813113834066795298815 38685626227668133590597631 77371252455336267181195263 154742504910672534362390527 309485009821345068724781055 618970019642690137449562111 "
          ]
        }
      ]
    },
    {
      "cell_type": "code",
      "source": [
        ""
      ],
      "metadata": {
        "id": "SSZD8d2XobiC"
      },
      "execution_count": null,
      "outputs": []
    }
  ]
}