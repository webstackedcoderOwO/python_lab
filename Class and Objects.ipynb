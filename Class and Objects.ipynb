{
  "nbformat": 4,
  "nbformat_minor": 0,
  "metadata": {
    "colab": {
      "name": "Untitled2.ipynb",
      "provenance": [],
      "collapsed_sections": [],
      "include_colab_link": true
    },
    "kernelspec": {
      "name": "python3",
      "display_name": "Python 3"
    },
    "language_info": {
      "name": "python"
    }
  },
  "cells": [
    {
      "cell_type": "markdown",
      "metadata": {
        "id": "view-in-github",
        "colab_type": "text"
      },
      "source": [
        "<a href=\"https://colab.research.google.com/github/hyperprizma/PythonLab/blob/main/Class%20and%20Objects.ipynb\" target=\"_parent\"><img src=\"https://colab.research.google.com/assets/colab-badge.svg\" alt=\"Open In Colab\"/></a>"
      ]
    },
    {
      "cell_type": "code",
      "execution_count": 2,
      "metadata": {
        "colab": {
          "base_uri": "https://localhost:8080/"
        },
        "id": "RLNBBOk8Ui0e",
        "outputId": "45f18d62-3a42-427e-ca17-76c375e188d0"
      },
      "outputs": [
        {
          "output_type": "stream",
          "name": "stdout",
          "text": [
            "Enter the name of Student:Pritish\n",
            "Enter the marks of Pritish in 1 subject: 98\n",
            "Enter the marks of Pritish in 2 subject: 89\n",
            "Enter the marks of Pritish in 3 subject: 78\n",
            "Pritish got  [98, 89, 78]\n",
            "\n",
            "Enter the name of Student:Pratyush\n",
            "Enter the marks of Pratyush in 1 subject: 90\n",
            "Enter the marks of Pratyush in 2 subject: 78\n",
            "Enter the marks of Pratyush in 3 subject: 56\n",
            "Pratyush got  [90, 78, 56]\n"
          ]
        }
      ],
      "source": [
        "class students:\n",
        "  \n",
        "    def __init__(self, name):\n",
        "        self.name = name\n",
        "        self.marks = []\n",
        "        \n",
        "    def enterMarks(self):\n",
        "        for i in range(3):\n",
        "            m = int(input(\"Enter the marks of %s in %d subject: \"%(self.name, i+1)))\n",
        "            self.marks.append(m)\n",
        "            \n",
        "    def display(self):\n",
        "        print (self.name, \"got \", self.marks)\n",
        "             \n",
        "name = input(\"Enter the name of Student:\")\n",
        "s1 = students(name)\n",
        "s1.enterMarks()\n",
        "s1.display()\n",
        "print (\"\")\n",
        "name = input(\"Enter the name of Student:\")\n",
        "s2 = students(name)\n",
        "s2.enterMarks()\n",
        "s2.display()"
      ]
    },
    {
      "cell_type": "code",
      "source": [
        "class Employee:\n",
        "\n",
        "    def __init__(self, name, des, salary):\n",
        "        self.name = name\n",
        "        self.des = des\n",
        "        self.salary = salary\n",
        "    \n",
        "    def displayCount(self):\n",
        "        print(\"Employees in the organization are: \", self.count)\n",
        "        \n",
        "    def displayEmp(self):\n",
        "        print (\"Name of Employee is: \", self.name)\n",
        "        print (\"Designation of Employee: \", self.des)\n",
        "        print (\"Salary of Employee: \", self.salary)\n",
        "        \n",
        "e1 = Employee (\"Pritish\", \"Game Developer\", 25000)\n",
        "e2 = Employee (\"Pratyush\", \"Web Developer\", 300000)\n",
        "\n",
        "\n",
        "print(\"Employee Details is:\")\n",
        "\n",
        "e1.displayEmp()\n",
        "e2.displayEmp()"
      ],
      "metadata": {
        "colab": {
          "base_uri": "https://localhost:8080/"
        },
        "id": "BrP5U19DVUVl",
        "outputId": "a52d6375-c4ae-432b-bede-0730c4c1271d"
      },
      "execution_count": 5,
      "outputs": [
        {
          "output_type": "stream",
          "name": "stdout",
          "text": [
            "Employee Details is:\n",
            "Name of Employee is:  Pritish\n",
            "Designation of Employee:  Game Developer\n",
            "Salary of Employee:  5000000\n",
            "Name of Employee is:  Pratyush\n",
            "Designation of Employee:  Web Developer\n",
            "Salary of Employee:  4100000\n"
          ]
        }
      ]
    },
    {
      "cell_type": "code",
      "source": [
        "import datetime\n",
        "class person:\n",
        "    def __init__(self, name, dob):\n",
        "        self.name=name\n",
        "        self.dob=dob\n",
        "    def check(self):\n",
        "        today=datetime.date.today()\n",
        "        age=today.year-self.dob.year\n",
        "        if today< datetime.date(today.year, self.dob.month, self.dob.day):\n",
        "            age-=1\n",
        "        if age>=18:\n",
        "            print(self.name,\",You are eligible to vote.\")\n",
        "        else:\n",
        "            print(self.name,\" , Sorry! You should be at least 18 years of age to cast your vote.\")\n",
        "p=person(\"Pritish\", datetime.date(1999, 1, 12))\n",
        "p.check()"
      ],
      "metadata": {
        "colab": {
          "base_uri": "https://localhost:8080/"
        },
        "id": "8p7F00iRVzP-",
        "outputId": "a34d4483-d9fb-4c6b-af0f-b9555f75985d"
      },
      "execution_count": 7,
      "outputs": [
        {
          "output_type": "stream",
          "name": "stdout",
          "text": [
            "Pritish ,You are eligible to vote.\n"
          ]
        }
      ]
    },
    {
      "cell_type": "code",
      "source": [
        "class Circle:\n",
        "    def __init__(self, r):\n",
        "        self.radius = r\n",
        "\n",
        "    def area(self):\n",
        "        return self.radius**2*3.14\n",
        "    \n",
        "    def perimeter(self):\n",
        "        return 2*self.radius*3.14\n",
        "\n",
        "NewCircle = Circle(8)\n",
        "print(NewCircle.area())\n",
        "print(NewCircle.perimeter())"
      ],
      "metadata": {
        "colab": {
          "base_uri": "https://localhost:8080/"
        },
        "id": "TxnCFBdzXH6O",
        "outputId": "98a8b117-cc6f-446b-bca3-0c678ca47b40"
      },
      "execution_count": null,
      "outputs": [
        {
          "output_type": "stream",
          "name": "stdout",
          "text": [
            "200.96\n",
            "50.24\n"
          ]
        }
      ]
    },
    {
      "cell_type": "code",
      "source": [
        "class Student:\n",
        "    marks = []\n",
        "    def getData(self, rn, name, m1, m2, m3):\n",
        "        Student.rn = rn\n",
        "        Student.name = name\n",
        "        Student.marks.append(m1)\n",
        "        Student.marks.append(m2)\n",
        "        Student.marks.append(m3)\n",
        "        \n",
        "    def displayData(self):\n",
        "        print (\"Roll Number is: \", Student.rn)\n",
        "        print (\"Name is: \", Student.name)\n",
        "        #print (\"Marks in subject 1: \", Student.marks[0])\n",
        "        #print (\"Marks in subject 2: \", Student.marks[1])\n",
        "        #print (\"Marks in subject 3: \", Student.marks[2])\n",
        "        print (\"Marks are: \", Student.marks)\n",
        "        print (\"Total Marks are: \", self.total())\n",
        "        print (\"Average Marks are: \", self.average())\n",
        "        \n",
        "    def total(self):\n",
        "        return (Student.marks[0] + Student.marks[1] +Student.marks[2])\n",
        "    \n",
        "    def average(self):\n",
        "        return ((Student.marks[0] + Student.marks[1] +Student.marks[2])/3)\n",
        "    \n",
        "r = int (input(\"Enter the roll number: \"))\n",
        "name = input(\"Enter the name: \")\n",
        "m1 = int (input(\"Enter the marks in the first subject: \"))\n",
        "m2 = int (input(\"Enter the marks in the second subject: \"))\n",
        "m3 = int (input(\"Enter the marks in the third subject: \"))\n",
        "\n",
        "s1 = Student()\n",
        "s1.getData(r, name, m1, m2, m3)\n",
        "s1.displayData()"
      ],
      "metadata": {
        "colab": {
          "base_uri": "https://localhost:8080/"
        },
        "id": "ewPhWal3wVHY",
        "outputId": "8e32759b-63d3-4d9a-9b1c-3652d2eebc2d"
      },
      "execution_count": 8,
      "outputs": [
        {
          "output_type": "stream",
          "name": "stdout",
          "text": [
            "Enter the roll number: 1905763\n",
            "Enter the name: Pritish\n",
            "Enter the marks in the first subject: 90\n",
            "Enter the marks in the second subject: 89\n",
            "Enter the marks in the third subject: 93\n",
            "Roll Number is:  1905763\n",
            "Name is:  Pritish\n",
            "Marks are:  [90, 89, 93]\n",
            "Total Marks are:  272\n",
            "Average Marks are:  90.66666666666667\n"
          ]
        }
      ]
    },
    {
      "cell_type": "code",
      "source": [
        "class Rectangle:\n",
        "    def __init__(self, l, w):\n",
        "        self.length = l\n",
        "        self.width  = w\n",
        "\n",
        "    def rectangle_area(self):\n",
        "        return self.length*self.width\n",
        "\n",
        "newRectangle = Rectangle(12, 10)\n",
        "print(newRectangle.rectangle_area())"
      ],
      "metadata": {
        "colab": {
          "base_uri": "https://localhost:8080/"
        },
        "id": "KrJ6jeSbwlFf",
        "outputId": "01f18c72-5be5-4fd4-f6f1-975660f8855f"
      },
      "execution_count": 9,
      "outputs": [
        {
          "output_type": "stream",
          "name": "stdout",
          "text": [
            "120\n"
          ]
        }
      ]
    },
    {
      "cell_type": "code",
      "source": [
        "class Fraction:\n",
        "    def __init__(self,n,d):\n",
        "      self.num = n\n",
        "      self.den = d\n",
        "    def display(self):\n",
        "      return str(self.num)+\"/\"+str(self.den)\n",
        "frac = Fraction(4,5)\n",
        "print(frac.display())"
      ],
      "metadata": {
        "id": "_wn9G_2ZF350"
      },
      "execution_count": null,
      "outputs": []
    },
    {
      "cell_type": "code",
      "source": [
        "from abc import ABC, abstractmethod\n",
        "\n",
        "class Polygon(ABC):\n",
        "\n",
        "    def __init__(self, n):\n",
        "        self.number_of_sides = n\n",
        "\n",
        "    def print_num_sides(self):\n",
        "        print('There are ' + str(self.number_of_sides) + ' sides.')\n",
        "\n",
        "    @abstractmethod\n",
        "    def get_area(self):\n",
        "        pass\n",
        "\n",
        "class Rectangle(Polygon):\n",
        "\n",
        "    def __init__(self, lenghts_of_sides):\n",
        "        Polygon.__init__(self, 4)\n",
        "        self.lengths_of_sides = lenghts_of_sides  # list of two numbers\n",
        "\n",
        "    def get_area(self):\n",
        "        '''return the area of the rectangle: length x width'''\n",
        "        x, y = self.lengths_of_sides\n",
        "        return x * y\n",
        "\n",
        "class Triangle(Polygon):\n",
        "\n",
        "    def __init__(self, lengths_of_sides):\n",
        "        Polygon.__init__(self, 3)\n",
        "        self.lengths_of_sides = lengths_of_sides  # list of three numbers\n",
        "\n",
        "    def get_area(self):\n",
        "        '''return the area of the triangle using the semi-perimeter method'''\n",
        "        a, b, c = self.lengths_of_sides\n",
        "\n",
        "        # calculate the semi-perimeter\n",
        "        s = (a + b + c) / 2\n",
        "        return (s*(s-a)*(s-b)*(s-c)) ** 0.5\n",
        "\n",
        "\n",
        "\n",
        "\n",
        "tri = Triangle([3, 4, 5])\n",
        "print(tri.get_area())\n",
        "\n",
        "rect = Rectangle([5,10])\n",
        "print(rect.get_area())"
      ],
      "metadata": {
        "id": "c2ekftV6xbon"
      },
      "execution_count": null,
      "outputs": []
    },
    {
      "cell_type": "code",
      "source": [
        "class Bill:\n",
        "    def __init__(self,a):\n",
        "      self.amount = a\n",
        "\n",
        "class Cash(Bill):\n",
        "    def display(self):\n",
        "      return str(self.amount) + \" payed by cash!\"\n",
        "\n",
        "class Card(Bill):\n",
        "    def display(self):\n",
        "      return str(self.amount) + \" payed by card!\"\n",
        "  \n",
        "ob1 = Cash(100)\n",
        "ob2 = Card(100)\n",
        "\n",
        "print(ob1.display())\n",
        "print(ob2.display())\n"
      ],
      "metadata": {
        "id": "NwBx4QfNyVsa",
        "colab": {
          "base_uri": "https://localhost:8080/"
        },
        "outputId": "52c638a1-a6ad-43b2-b0bd-3d2104ea2d9f"
      },
      "execution_count": null,
      "outputs": [
        {
          "output_type": "stream",
          "name": "stdout",
          "text": [
            "100 payed by cash!\n",
            "100 payed by card!\n"
          ]
        }
      ]
    },
    {
      "cell_type": "code",
      "source": [
        "class Numbers:\n",
        "    def __init__(self,n):\n",
        "      self.numbers = n\n",
        "    \n",
        "    def largest(self):\n",
        "      return max(self.numbers)\n",
        "    \n",
        "nos = Numbers([12,3,1,323,123,34])\n",
        "print(nos.largest())"
      ],
      "metadata": {
        "colab": {
          "base_uri": "https://localhost:8080/"
        },
        "id": "hZBUlJN-OBdv",
        "outputId": "548aacf4-04e2-4656-8b11-9bb334306486"
      },
      "execution_count": null,
      "outputs": [
        {
          "output_type": "stream",
          "name": "stdout",
          "text": [
            "323\n"
          ]
        }
      ]
    },
    {
      "cell_type": "code",
      "source": [
        "class Stringss:\n",
        "\n",
        "  def __init__(self,s):\n",
        "    self.str = s\n",
        "\n",
        "  def countCharacterType(self):\n",
        "    vowels = 0\n",
        "    consonant = 0\n",
        "    specialChar = 0\n",
        "    digit = 0\n",
        "    for i in range(0, len(self.str)):\n",
        "         \n",
        "        ch = self.str[i]\n",
        " \n",
        "        if ( (ch >= 'a' and ch <= 'z') or\n",
        "             (ch >= 'A' and ch <= 'Z') ):\n",
        "            ch = ch.lower()\n",
        " \n",
        "            if (ch == 'a' or ch == 'e' or ch == 'i'\n",
        "                        or ch == 'o' or ch == 'u'):\n",
        "                vowels += 1\n",
        "            else:\n",
        "                consonant += 1\n",
        "         \n",
        "        elif (ch >= '0' and ch <= '9'):\n",
        "            digit += 1\n",
        "        else:\n",
        "            specialChar += 1\n",
        "     \n",
        "    print(\"Vowels:\", vowels)\n",
        "    print(\"Consonant:\", consonant)\n",
        "    print(\"Digit:\", digit)\n",
        "    print(\"Special Character:\", specialChar)\n",
        "\n",
        "strs = Stringss(\"its raining cats and dogs!\")\n",
        "strs.countCharacterType()"
      ],
      "metadata": {
        "id": "iAq3N0WGQeo3"
      },
      "execution_count": null,
      "outputs": []
    },
    {
      "cell_type": "code",
      "source": [
        "class Bank_Account:\n",
        "\tdef __init__(self):\n",
        "\t\tself.balance=0\n",
        "\t\tprint(\"Hello!!! Welcome to the Deposit & Withdrawal Machine\")\n",
        "\n",
        "\tdef deposit(self):\n",
        "\t\tamount=float(input(\"Enter amount to be Deposited: \"))\n",
        "\t\tself.balance += amount\n",
        "\t\tprint(\"\\n Amount Deposited:\",amount)\n",
        "\n",
        "\tdef withdraw(self):\n",
        "\t\tamount = float(input(\"Enter amount to be Withdrawn: \"))\n",
        "\t\tif self.balance>=amount:\n",
        "\t\t\tself.balance-=amount\n",
        "\t\t\tprint(\"\\n You Withdrew:\", amount)\n",
        "\t\telse:\n",
        "\t\t\tprint(\"\\n Insufficient balance \")\n",
        "\n",
        "\tdef display(self):\n",
        "\t\tprint(\"\\n Net Available Balance=\",self.balance)\n",
        "\n",
        "s = Bank_Account()\n",
        "\n",
        "s.deposit()\n",
        "s.withdraw()\n",
        "s.display()\n"
      ],
      "metadata": {
        "colab": {
          "base_uri": "https://localhost:8080/"
        },
        "id": "N3MAVvGqRWSW",
        "outputId": "d6836168-13eb-4d6d-e7b7-d706d82bbe2f"
      },
      "execution_count": 12,
      "outputs": [
        {
          "output_type": "stream",
          "name": "stdout",
          "text": [
            "Hello!!! Welcome to the Deposit & Withdrawal Machine\n",
            "Enter amount to be Deposited: 500\n",
            "\n",
            " Amount Deposited: 500.0\n",
            "Enter amount to be Withdrawn: 78\n",
            "\n",
            " You Withdrew: 78.0\n",
            "\n",
            " Net Available Balance= 422.0\n"
          ]
        }
      ]
    },
    {
      "cell_type": "markdown",
      "source": [
        "# NAME : SHASHI KIRAN GUJJA\n",
        "# ROLL : 1905769"
      ],
      "metadata": {
        "id": "C0arGguRW6Ij"
      }
    },
    {
      "cell_type": "code",
      "source": [
        "test_list = [1, 3, 4, 3, 6, 7]\n",
        "res_list = []\n",
        "for i in range(0, len(test_list)) :\n",
        "    if test_list[i] == 3 :\n",
        "        res_list.append(i)\n",
        "\n",
        "print(\"3 occurre in indeces : \" + str(res_list) + \" \" + str(len(res_list)) + \" times!\")"
      ],
      "metadata": {
        "colab": {
          "base_uri": "https://localhost:8080/"
        },
        "id": "6vCtn2esTtPJ",
        "outputId": "ad0ae8d2-8760-416a-c35a-a834c36eac0d"
      },
      "execution_count": null,
      "outputs": [
        {
          "output_type": "stream",
          "name": "stdout",
          "text": [
            "3 occurre in indeces : [1, 3] 2 times!\n"
          ]
        }
      ]
    },
    {
      "cell_type": "code",
      "source": [
        "mystring = \"Secret agents are super good at staying hidden.\"\n",
        "lis = [word[0] for word in mystring.split()]\n",
        "print(lis)"
      ],
      "metadata": {
        "colab": {
          "base_uri": "https://localhost:8080/"
        },
        "id": "SmXsdmM6Ugr5",
        "outputId": "9f74dbb7-f6dc-44d2-abcd-5d80156ce78b"
      },
      "execution_count": null,
      "outputs": [
        {
          "output_type": "stream",
          "name": "stdout",
          "text": [
            "['S', 'a', 'a', 's', 'g', 'a', 's', 'h']\n"
          ]
        }
      ]
    },
    {
      "cell_type": "code",
      "source": [
        "infile = open(\"/content/t&t/txt1.txt\", 'r')\n",
        "outfile = open(\"/content/t&t/txt2.txt\", 'w')\n",
        "\n",
        "for line in infile:\n",
        "  outfile.write(str(len(line)) + line)\n",
        "\n",
        "infile.close()\n",
        "outfile.close()"
      ],
      "metadata": {
        "id": "lLU37veuUvO4"
      },
      "execution_count": null,
      "outputs": []
    }
  ]
}