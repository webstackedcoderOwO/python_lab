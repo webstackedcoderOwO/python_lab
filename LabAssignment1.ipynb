{
  "nbformat": 4,
  "nbformat_minor": 0,
  "metadata": {
    "colab": {
      "name": "Untitled1.ipynb",
      "provenance": [],
      "authorship_tag": "ABX9TyN73VDiZuaaCN7Gl1E/jL9m",
      "include_colab_link": true
    },
    "kernelspec": {
      "name": "python3",
      "display_name": "Python 3"
    },
    "language_info": {
      "name": "python"
    }
  },
  "cells": [
    {
      "cell_type": "markdown",
      "metadata": {
        "id": "view-in-github",
        "colab_type": "text"
      },
      "source": [
        "<a href=\"https://colab.research.google.com/github/hyperprizma/PythonLab/blob/main/LabAssignment1.ipynb\" target=\"_parent\"><img src=\"https://colab.research.google.com/assets/colab-badge.svg\" alt=\"Open In Colab\"/></a>"
      ]
    },
    {
      "cell_type": "code",
      "execution_count": 3,
      "metadata": {
        "colab": {
          "base_uri": "https://localhost:8080/"
        },
        "id": "FTY4xsUrHn2L",
        "outputId": "f4fa8171-0c96-4e9d-84f7-d9f474785616"
      },
      "outputs": [
        {
          "output_type": "stream",
          "name": "stdout",
          "text": [
            "Choose the operator (+,-,*,/):\n",
            "/\n",
            "Enter the first integer:\n",
            "70\n",
            "Enter the second integer:\n",
            "35\n",
            "Your result is:\n",
            "2.0\n"
          ]
        }
      ],
      "source": [
        "print(\"Choose the operator (+,-,*,/):\")\n",
        "operator = input()\n",
        "print(\"Enter the first integer:\")\n",
        "x = int(input())\n",
        "print(\"Enter the second integer:\")\n",
        "y = int(input())\n",
        "print(\"Your result is:\")\n",
        "if operator == \"+\":\n",
        "  print(x+y)\n",
        "elif operator == \"-\":\n",
        "  print(x-y)\n",
        "elif operator == \"*\":\n",
        "  print(x*y)\n",
        "elif operator == \"/\":\n",
        "  print(x/y)\n",
        "\n"
      ]
    },
    {
      "cell_type": "code",
      "source": [
        "year = int(input(\"Enter Year: \"))\n",
        "if year % 4 == 0 and year % 100 != 0:\n",
        "    print(year, \"is a Leap Year\")\n",
        "elif year % 100 == 0:\n",
        "    print(year, \"is not a Leap Year\")\n",
        "elif year % 400 ==0:\n",
        "    print(year, \"is a Leap Year\")\n",
        "else:\n",
        "    print(year, \"is not a Leap Year\")"
      ],
      "metadata": {
        "colab": {
          "base_uri": "https://localhost:8080/"
        },
        "id": "s5EuXnkfJQrq",
        "outputId": "e3723763-dbe7-48bb-d0fd-67e661d45c06"
      },
      "execution_count": 4,
      "outputs": [
        {
          "output_type": "stream",
          "name": "stdout",
          "text": [
            "Enter Year: 2016\n",
            "2016 is a Leap Year\n"
          ]
        }
      ]
    },
    {
      "cell_type": "code",
      "source": [
        "celsius = float(input(\"Enter Celcius: \"))\n",
        "fahrenheit = (9/5)*celsius + 32\n",
        "print(\"Fahrenheit \",fahrenheit)"
      ],
      "metadata": {
        "colab": {
          "base_uri": "https://localhost:8080/"
        },
        "id": "sVEWowvfLcBK",
        "outputId": "c71ebc22-fa27-40f2-8391-df2672c45d73"
      },
      "execution_count": 5,
      "outputs": [
        {
          "output_type": "stream",
          "name": "stdout",
          "text": [
            "Enter Celcius: 67\n",
            "Fahrenheit  152.60000000000002\n"
          ]
        }
      ]
    },
    {
      "cell_type": "code",
      "source": [
        "print(\"Enter Time 1 :\")\n",
        "h1=int(input(\"Hour : \"))\n",
        "m1=int(input(\"Minute : \"))\n",
        "s1=int(input(\"Second : \"))\n",
        "print(\"Enter Time 2 :\")\n",
        "h2=int(input(\"Hour : \"))\n",
        "m2=int(input(\"Minute : \"))\n",
        "s2=int(input(\"Second : \"))\n",
        "h3=h1+h2+(m1+m2+(s1+s2)//60)//60\n",
        "m3=(m1+m2+(s1+s2)//60)%60\n",
        "s3=(s1+s2)%60\n",
        "print(\"Time 1 :\",h1,\" Hour,\",m1,\" Minute and \",s1,\" Second\")\n",
        "print(\"Time 2 :\",h2,\" Hour,\",m2,\" Minute and \",s2,\" Second\")\n",
        "print(\"Total Time  :\",h3,\" Hour &\",m3,\" Minute and \",s3,\"Second\")"
      ],
      "metadata": {
        "colab": {
          "base_uri": "https://localhost:8080/"
        },
        "id": "tuztRhyBTu5Y",
        "outputId": "833690ef-5129-4996-f874-009a3eb6d37a"
      },
      "execution_count": 6,
      "outputs": [
        {
          "output_type": "stream",
          "name": "stdout",
          "text": [
            "Enter Time 1 :\n",
            "Hour : 5\n",
            "Minute : 3\n",
            "Second : 56\n",
            "Enter Time 2 :\n",
            "Hour : 2\n",
            "Minute : 23\n",
            "Second : 45\n",
            "Time 1 : 5  Hour, 3  Minute and  56  Second\n",
            "Time 2 : 2  Hour, 23  Minute and  45  Second\n",
            "Total Time  : 7  Hour & 27  Minute and  41 Second\n"
          ]
        }
      ]
    },
    {
      "cell_type": "code",
      "source": [
        "num = int(input(\"Enter a number: \"))\n",
        "\n",
        "sum = 0\n",
        "\n",
        "temp = num\n",
        "while temp > 0:\n",
        "   digit = temp % 10\n",
        "   sum += digit ** 3\n",
        "   temp //= 10\n",
        "\n",
        "if num == sum:\n",
        "   print(num,\"is an Armstrong number\")\n",
        "else:\n",
        "   print(num,\"is not an Armstrong number\")"
      ],
      "metadata": {
        "colab": {
          "base_uri": "https://localhost:8080/"
        },
        "id": "qrhHRASaUKoo",
        "outputId": "8dcf34c6-4a91-4706-aa9e-f0e3d88c4e70"
      },
      "execution_count": 8,
      "outputs": [
        {
          "output_type": "stream",
          "name": "stdout",
          "text": [
            "Enter a number: 456\n",
            "456 is not an Armstrong number\n"
          ]
        }
      ]
    },
    {
      "cell_type": "code",
      "source": [
        "start, end = 100, 200  \n",
        "for num in range(start, end + 1):\n",
        "    if num % 2 == 0:\n",
        "        print(num, end = \" \")"
      ],
      "metadata": {
        "colab": {
          "base_uri": "https://localhost:8080/"
        },
        "id": "E8Rz9Ie1V43g",
        "outputId": "8c9b113f-c650-486a-b4b5-a3baf5758d4b"
      },
      "execution_count": 9,
      "outputs": [
        {
          "output_type": "stream",
          "name": "stdout",
          "text": [
            "100 102 104 106 108 110 112 114 116 118 120 122 124 126 128 130 132 134 136 138 140 142 144 146 148 150 152 154 156 158 160 162 164 166 168 170 172 174 176 178 180 182 184 186 188 190 192 194 196 198 200 "
          ]
        }
      ]
    },
    {
      "cell_type": "code",
      "source": [
        "num1 = int(input())\n",
        "num2 = int(input())\n",
        "a = num1\n",
        "b = num2\n",
        "while(num2 != 0):\n",
        "    temp = num2\n",
        "    num2 = num1 % num2\n",
        "    num1 = temp\n",
        "gcd = num1  \n",
        "lcm = (a * b) // gcd \n",
        "print(\"The LCM of the numbers is \", lcm)"
      ],
      "metadata": {
        "colab": {
          "base_uri": "https://localhost:8080/"
        },
        "id": "ZCWK7hgja-aJ",
        "outputId": "8af8bdb3-1aed-4a3e-9a92-ea100c5a8f42"
      },
      "execution_count": 16,
      "outputs": [
        {
          "output_type": "stream",
          "name": "stdout",
          "text": [
            "45\n",
            "27\n",
            "The LCM of the numbers is  135\n"
          ]
        }
      ]
    },
    {
      "cell_type": "code",
      "source": [
        "x1=int(input(\"enter x1 : \"))\n",
        "\n",
        "x2=int(input(\"enter x2 : \"))\n",
        "\n",
        "y1=int(input(\"enter y1 : \"))\n",
        "\n",
        "y2=int(input(\"enter y2 : \"))\n",
        "\n",
        "result= ((((x2 - x1 )**2) + ((y2-y1)**2) )**0.5)\n",
        "\n",
        "print(\"distance between\",(x1,x2),\"and\",(y1,y2),\"is : \",result)"
      ],
      "metadata": {
        "colab": {
          "base_uri": "https://localhost:8080/"
        },
        "id": "UsZYi_mze7io",
        "outputId": "67d7ab02-a35a-4367-edd3-836b4b54325a"
      },
      "execution_count": 2,
      "outputs": [
        {
          "output_type": "stream",
          "name": "stdout",
          "text": [
            "enter x1 : 4\n",
            "enter x2 : 7\n",
            "enter y1 : 2\n",
            "enter y2 : 9\n",
            "distance between (4, 7) and (2, 9) is :  7.615773105863909\n"
          ]
        }
      ]
    },
    {
      "cell_type": "code",
      "source": [
        "number = int(input (\"Enter the number of which the user wants to print the multiplication table: \"))      \n",
        "# We are using \"for loop\" to iterate the multiplication 10 times       \n",
        "print (\"The Multiplication Table of: \", number)    \n",
        "for count in range(1, 11):      \n",
        "   print (number, 'x', count, '=', number * count)    "
      ],
      "metadata": {
        "colab": {
          "base_uri": "https://localhost:8080/"
        },
        "id": "EaZ0wbX4LuEq",
        "outputId": "9c949983-aeac-43bc-9e2b-f4a496e05309"
      },
      "execution_count": 5,
      "outputs": [
        {
          "output_type": "stream",
          "name": "stdout",
          "text": [
            "Enter the number of which the user wants to print the multiplication table: 45\n",
            "The Multiplication Table of:  45\n",
            "45 x 1 = 45\n",
            "45 x 2 = 90\n",
            "45 x 3 = 135\n",
            "45 x 4 = 180\n",
            "45 x 5 = 225\n",
            "45 x 6 = 270\n",
            "45 x 7 = 315\n",
            "45 x 8 = 360\n",
            "45 x 9 = 405\n",
            "45 x 10 = 450\n"
          ]
        }
      ]
    },
    {
      "cell_type": "code",
      "source": [
        "pi=22/7\n",
        "height = float(input('Height of cylinder: '))\n",
        "radian = float(input('Radius of cylinder: '))\n",
        "volume = pi * radian * radian * height\n",
        "sur_area = ((2*pi*radian) * height) + ((pi*radian**2)*2)\n",
        "print(\"Volume is: \", volume)\n",
        "print(\"Surface Area is: \", sur_area)"
      ],
      "metadata": {
        "colab": {
          "base_uri": "https://localhost:8080/"
        },
        "id": "S52EIsC1MqSx",
        "outputId": "eeecb0d4-3e32-4bda-f612-794356a3ab90"
      },
      "execution_count": 6,
      "outputs": [
        {
          "output_type": "stream",
          "name": "stdout",
          "text": [
            "Height of cylinder: 34\n",
            "Radius of cylinder: 5\n",
            "Volume is:  2671.4285714285716\n",
            "Surface Area is:  1225.7142857142856\n"
          ]
        }
      ]
    },
    {
      "cell_type": "code",
      "source": [
        "import cmath  \n",
        "a = float(input('Enter a: '))  \n",
        "b = float(input('Enter b: '))  \n",
        "c = float(input('Enter c: '))   \n",
        "d = (b**2) - (4*a*c)    \n",
        "sol1 = (-b-cmath.sqrt(d))/(2*a)  \n",
        "sol2 = (-b+cmath.sqrt(d))/(2*a)  \n",
        "print('The roots of the equation are:', sol1, sol2) "
      ],
      "metadata": {
        "colab": {
          "base_uri": "https://localhost:8080/"
        },
        "id": "Bhx18mGDNmkt",
        "outputId": "a30262c1-6351-448e-de34-ab4f53a36340"
      },
      "execution_count": 7,
      "outputs": [
        {
          "output_type": "stream",
          "name": "stdout",
          "text": [
            "Enter a: 4\n",
            "Enter b: 2\n",
            "Enter c: 6\n",
            "The roots of the equation are: (-0.25-1.1989578808281798j) (-0.25+1.1989578808281798j)\n"
          ]
        }
      ]
    },
    {
      "cell_type": "code",
      "source": [
        "a=int(input(\"Number of classes held:\"))\n",
        "\n",
        "b=int(input(\"Number of classes attended:\"))\n",
        "\n",
        "percentage=b/a*100\n",
        "\n",
        "if percentage>=75:\n",
        "\n",
        "        print(\"The student is allowed and Attendance is:\", percentage)\n",
        "\n",
        "else:\n",
        "\n",
        "        print(\"The student is not allowed and Attendance is:\", percentage)\n",
        "        "
      ],
      "metadata": {
        "colab": {
          "base_uri": "https://localhost:8080/"
        },
        "id": "iklMDLpoVr1q",
        "outputId": "433e7694-6635-4869-a50e-72ae8d71c14d"
      },
      "execution_count": 11,
      "outputs": [
        {
          "output_type": "stream",
          "name": "stdout",
          "text": [
            "Number of classes held:45\n",
            "Number of classes attended:44\n",
            "The student is allowed and Attendance is: 97.77777777777777\n"
          ]
        }
      ]
    },
    {
      "cell_type": "code",
      "source": [
        "dist = int(input(\"Enter distance in meters:\"))\n",
        "km = dist/1000\n",
        "m = dist%1000\n",
        "print(\"Hence the distance in kilometers is \",km, \"and meters is:\",m)\n",
        "\n"
      ],
      "metadata": {
        "colab": {
          "base_uri": "https://localhost:8080/"
        },
        "id": "L_BAefGcYAgp",
        "outputId": "7ffa8613-5ff1-4a09-f073-b799a27d0ac5"
      },
      "execution_count": 18,
      "outputs": [
        {
          "output_type": "stream",
          "name": "stdout",
          "text": [
            "Enter distance in meters:5000\n",
            "Hence the distance in kilometers is  5.0 and meters is: 0\n"
          ]
        }
      ]
    },
    {
      "cell_type": "code",
      "source": [
        "upto = int(input(\"Find sum of prime numbers upto : \"))\n",
        "\n",
        "sum = 0\n",
        "\n",
        "for num in range(2, upto + 1):\n",
        "\n",
        "    i = 2\n",
        "    \n",
        "    for i in range(2, num):\n",
        "        if (int(num % i) == 0):\n",
        "            i = num\n",
        "            break;\n",
        "\n",
        "    #If the number is prime then add it.\n",
        "    if i is not num:\n",
        "        sum += num\n",
        "\n",
        "print(\"\\nSum of all prime numbers upto\", upto, \":\", sum)"
      ],
      "metadata": {
        "id": "p-apxSASb6fm"
      },
      "execution_count": null,
      "outputs": []
    },
    {
      "cell_type": "code",
      "source": [
        "number = int(input(\"Enter the integer number: \"))   \n",
        "revs_number = 0  \n",
        "while (number > 0):  \n",
        "    # Logic  \n",
        "    remainder = number % 10  \n",
        "    revs_number = (revs_number * 10) + remainder  \n",
        "    number = number // 10  \n",
        "print(\"The reverse number is : {}\".format(revs_number))  "
      ],
      "metadata": {
        "id": "ZSOCeJm7cvyK"
      },
      "execution_count": null,
      "outputs": []
    }
  ]
}